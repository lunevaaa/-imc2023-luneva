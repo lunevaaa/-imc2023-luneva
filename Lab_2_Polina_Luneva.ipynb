{
  "nbformat": 4,
  "nbformat_minor": 0,
  "metadata": {
    "colab": {
      "provenance": [],
      "authorship_tag": "ABX9TyMCdcOgW+BxBmbKscnDJiGR",
      "include_colab_link": true
    },
    "kernelspec": {
      "name": "python3",
      "display_name": "Python 3"
    },
    "language_info": {
      "name": "python"
    }
  },
  "cells": [
    {
      "cell_type": "markdown",
      "metadata": {
        "id": "view-in-github",
        "colab_type": "text"
      },
      "source": [
        "<a href=\"https://colab.research.google.com/github/lunevaaa/imc2023-luneva/blob/main/Lab_2_Polina_Luneva.ipynb\" target=\"_parent\"><img src=\"https://colab.research.google.com/assets/colab-badge.svg\" alt=\"Open In Colab\"/></a>"
      ]
    },
    {
      "cell_type": "code",
      "execution_count": 1,
      "metadata": {
        "colab": {
          "base_uri": "https://localhost:8080/"
        },
        "id": "nc37YF72WyY5",
        "outputId": "9402ffa0-7972-495f-b944-1aeeae249c95"
      },
      "outputs": [
        {
          "output_type": "stream",
          "name": "stdout",
          "text": [
            "Cloning into 'imc2023'...\n",
            "remote: Enumerating objects: 98, done.\u001b[K\n",
            "remote: Counting objects: 100% (98/98), done.\u001b[K\n",
            "remote: Compressing objects: 100% (93/93), done.\u001b[K\n",
            "remote: Total 98 (delta 39), reused 14 (delta 1), pack-reused 0\u001b[K\n",
            "Unpacking objects: 100% (98/98), 8.86 MiB | 4.14 MiB/s, done.\n"
          ]
        }
      ],
      "source": [
        "import numpy as np\n",
        "import matplotlib.pylab as plt\n",
        "import librosa.display\n",
        "import IPython.display\n",
        "import librosa\n",
        "\n",
        "#import audio files\n",
        "!git clone https://github.com/jcdevaney/imc2023.git"
      ]
    },
    {
      "cell_type": "code",
      "source": [
        "#pltAudio\n",
        "def plotAudio3(sig,sampleRate,title):\n",
        "     \n",
        "    # x-axis is time\n",
        "    time=np.arange(0,sig.shape[0])/sr\n",
        "    \n",
        "    # y-axis is amplitude\n",
        "    excursion=max(abs(sig))\n",
        "    sigNew = sig / excursion\n",
        "    \n",
        "    # labels\n",
        "    xlabel = 'Time (seconds)'\n",
        "    ylabel = 'Amplitude'\n",
        "\n",
        "    # plot   \n",
        "    plt.plot(time,sigNew)\n",
        "    plt.xlabel(xlabel)\n",
        "    plt.ylabel(ylabel)\n",
        "    plt.title(title)\n",
        "    plt.show()"
      ],
      "metadata": {
        "id": "6uotZaskYKJW"
      },
      "execution_count": 4,
      "outputs": []
    },
    {
      "cell_type": "code",
      "source": [
        "#subplots\n",
        "def subplots(plotPos,title,data,time,color,ylabel,xlabel):\n",
        "\n",
        "    #plot the inputted data into the subplot specified in the list plotPos\n",
        "    plt.subplot(plotPos[0],plotPos[1],plotPos[2])\n",
        "    plt.title(title)\n",
        "    plt.plot(time,data,color)\n",
        "    plt.ylabel(ylabel)\n",
        "    plt.xlabel(xlabel)"
      ],
      "metadata": {
        "id": "niqAp9wtW_AJ"
      },
      "execution_count": 5,
      "outputs": []
    },
    {
      "cell_type": "code",
      "source": [
        "#makeEchoes\n",
        "def makeEchoes(sig,sr,sec,echoes):\n",
        "\n",
        "    #calculate the number of bytes which corresponds to the offset in milliseconds\n",
        "    offset=int(sr*sec)\n",
        "    \n",
        "    #extra space at the end for delay\n",
        "    ending = np.zeros((offset*(len(echoes))))\n",
        "    \n",
        "    delayedSig = np.concatenate((sig,ending))\n",
        "    \n",
        "    for i in range(len(echoes)):\n",
        "        \n",
        "        #create some silence\n",
        "        # python indexes starting with zero which is why you need to add one\n",
        "        beginning = np.zeros(offset*(i+1))\n",
        "        \n",
        "        #create delayed version of signal\n",
        "        delay = np.concatenate((beginning,sig))\n",
        "        delay = delay * echoes[i]\n",
        "\n",
        "        #pad the end of delay with zeros to make it the same length as delaysedSig\n",
        "        delay = np.concatenate((delay,np.zeros((delayedSig.size-delay.size))))\n",
        "        \n",
        "        # combine with output signal\n",
        "        delayedSig = delayedSig + delay\n",
        "    \n",
        "    return delayedSig"
      ],
      "metadata": {
        "id": "vQf-wAT2Xr7P"
      },
      "execution_count": 6,
      "outputs": []
    },
    {
      "cell_type": "code",
      "source": [
        "#amplitudeModulation\n",
        "def amplitudeModulation(sig,sr,modulatorFreq,modulatorAmp,modIndex):\n",
        "    \n",
        "    # create a time series from 0 to 1 the length of the inputted sig\n",
        "    timeSeries = np.linspace(0, 1, len(sig))\n",
        "    #create a cosine wave modulator with the time series using the inputted modulation frequency \n",
        "    #with the np.cos function and multiple it by the inputted modulation amplitude\n",
        "    modulator = modulatorAmp * np.cos (2 * np.pi * modulatorFreq * timeSeries)\n",
        "    #perform amplitude modulation by multiplying the inputted sig with the modulator \n",
        "    #(multiplied by 1 + modulation index)\n",
        "    amMod = (1 + modIndex * modulator) * sig\n",
        "    \n",
        "    #create a time series to represent time for plotting\n",
        "    time=np.arange(0,sig.shape[0])/sr\n",
        "    \n",
        "    #plot the modulator, the carrier (sig), and the result of the amplitude modulation (amMod)\n",
        "    subplots([3,1,1],'Modulator signal',modulator,time,'g','Amplitude','Time')\n",
        "    subplots([3,1,2],'Original (carrier) signal',sig,time,'r','Amplitude','Time')\n",
        "    subplots([3,1,3],'Amplitude Modulated Signal',amMod,time,'purple','Amplitude','Time')\n",
        "    \n",
        "    plt.subplots_adjust(hspace=1)\n",
        "    plt.rc('font', size=15)\n",
        "    fig = plt.gcf()\n",
        "    fig.set_size_inches(16, 9)\n",
        "    \n",
        "    return amMod"
      ],
      "metadata": {
        "id": "RSmnF2qoYvaa"
      },
      "execution_count": 7,
      "outputs": []
    },
    {
      "cell_type": "code",
      "source": [
        "#In cell 6: create a function called echoAM() that inputs\n",
        "#- an audio signal\n",
        "#- the audio signal’s sampling rate\n",
        "#- a delay time (in seconds)\n",
        "#- a list containing the amplitude for the delays (# of delays specified by the length of the list)\n",
        "#- an amplitude modulation frequency\n",
        "#- an amplitude modulation amplitude\n",
        "#- a modulation index"
      ],
      "metadata": {
        "id": "XAg1DkJUY5H4"
      },
      "execution_count": 8,
      "outputs": []
    },
    {
      "cell_type": "code",
      "source": [
        "#In cell 7: use librosa.load() to open avm.wav and use IPython.display.Audio() to play it\n",
        "#sig , sr = librosa.load('avm.wav')"
      ],
      "metadata": {
        "id": "ckxlpJK_a5FV"
      },
      "execution_count": 9,
      "outputs": []
    },
    {
      "cell_type": "code",
      "source": [
        "#In cell 8: run the function with the following arguments and use IPython.display.Audio() to play the\n",
        "#modulated signal (named modSignal1)"
      ],
      "metadata": {
        "id": "2O7BoOiLa7ES"
      },
      "execution_count": 10,
      "outputs": []
    },
    {
      "cell_type": "code",
      "source": [
        "#In cell 9: run the function with the following arguments and use IPython.display.Audio() to play the\n",
        "#modulated signal (named modSignal2)"
      ],
      "metadata": {
        "id": "xfD5MH9RbdDs"
      },
      "execution_count": 11,
      "outputs": []
    },
    {
      "cell_type": "code",
      "source": [
        "#In cell 10: run the function with the following arguments and use IPython.display.Audio() to play the\n",
        "#modulated signal (named modSignal3)"
      ],
      "metadata": {
        "id": "hmmV8U0FbgkD"
      },
      "execution_count": 12,
      "outputs": []
    },
    {
      "cell_type": "code",
      "source": [
        "#In cell 11: run the function with the following arguments and use IPython.display.Audio() to play the\n",
        "#modulated signal (named modSignal4)"
      ],
      "metadata": {
        "id": "co-MzqHkbuSk"
      },
      "execution_count": 13,
      "outputs": []
    },
    {
      "cell_type": "code",
      "source": [
        "#In cells 12 and 13 run the function twice more, using your own settings for the inputted variables.\n",
        "#You can also run the function with other audio files if you like."
      ],
      "metadata": {
        "id": "Itbfhemsbw8L"
      },
      "execution_count": 15,
      "outputs": []
    },
    {
      "cell_type": "code",
      "source": [
        "#Name the file labAssignment2-name (where name is your last name) and sync to your icm2023-\n",
        "#name repository on the Github server and submit a link to the file on Blackboard"
      ],
      "metadata": {
        "id": "JhgCEal0b2jr"
      },
      "execution_count": null,
      "outputs": []
    }
  ]
}