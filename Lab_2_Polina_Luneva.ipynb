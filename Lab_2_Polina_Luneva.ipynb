{
  "nbformat": 4,
  "nbformat_minor": 0,
  "metadata": {
    "colab": {
      "provenance": [],
      "authorship_tag": "ABX9TyMWl5T8MRZ/87OLVaqoWLk4",
      "include_colab_link": true
    },
    "kernelspec": {
      "name": "python3",
      "display_name": "Python 3"
    },
    "language_info": {
      "name": "python"
    }
  },
  "cells": [
    {
      "cell_type": "markdown",
      "metadata": {
        "id": "view-in-github",
        "colab_type": "text"
      },
      "source": [
        "<a href=\"https://colab.research.google.com/github/lunevaaa/imc2023-luneva/blob/main/Lab_2_Polina_Luneva.ipynb\" target=\"_parent\"><img src=\"https://colab.research.google.com/assets/colab-badge.svg\" alt=\"Open In Colab\"/></a>"
      ]
    },
    {
      "cell_type": "code",
      "execution_count": null,
      "metadata": {
        "colab": {
          "base_uri": "https://localhost:8080/"
        },
        "id": "C_7aDVwkGxKB",
        "outputId": "e8394788-807d-4bc1-c567-4fe51fd7edc6"
      },
      "outputs": [
        {
          "output_type": "stream",
          "name": "stdout",
          "text": [
            "Cloning into 'imc2023'...\n",
            "remote: Enumerating objects: 102, done.\u001b[K\n",
            "remote: Counting objects: 100% (102/102), done.\u001b[K\n",
            "remote: Compressing objects: 100% (96/96), done.\u001b[K\n",
            "remote: Total 102 (delta 40), reused 14 (delta 1), pack-reused 0\u001b[K\n",
            "Receiving objects: 100% (102/102), 9.18 MiB | 6.88 MiB/s, done.\n",
            "Resolving deltas: 100% (40/40), done.\n"
          ]
        }
      ],
      "source": [
        "# libraries\n",
        "import numpy as np\n",
        "import matplotlib.pylab as plt\n",
        "import librosa.display\n",
        "import IPython.display\n",
        "import librosa\n",
        "\n",
        "# import audio files\n",
        "!git clone https://github.com/jcdevaney/imc2023.git"
      ]
    },
    {
      "cell_type": "code",
      "source": [
        "def plotAudio2(sig,sampleRate,title):\n",
        "    \n",
        "    # this version expects the audio file to have already been opened by librosa\n",
        "    sig , sr = librosa.load('imc2023/audioFiles/avm.wav')\n",
        "    \n",
        "    # Adjust the x-axis to represent time\n",
        "    time=np.arange(0,sig.shape[0])/sr\n",
        "    \n",
        "    # Scale the y-axis to represent amplitude from -1 to 1\n",
        "    excursion=max(abs(sig))\n",
        "    sigNew = sig / excursion\n",
        "    \n",
        "    # Label the x and y axes with variables\n",
        "    xlabel = 'Time (seconds)'\n",
        "    ylabel = 'Amplitude'\n",
        "\n",
        "    # Plot the signal using the x and y axis variables    \n",
        "    plt.plot(time,sigNew)\n",
        "    plt.xlabel(xlabel)\n",
        "    plt.ylabel(ylabel)\n",
        "    plt.title(title)\n",
        "    plt.show()"
      ],
      "metadata": {
        "id": "fEDKdt5mfKA1"
      },
      "execution_count": null,
      "outputs": []
    },
    {
      "cell_type": "code",
      "source": [
        "def subplots(plotPos,title,data,time,color,ylabel,xlabel):\n",
        "\n",
        "    #plot the inputted data into the subplot specified in the list plotPos\n",
        "\n",
        "    plt.subplot(plotPos[0],plotPos[1],plotPos[2])\n",
        "    plt.title(title)\n",
        "    plt.plot(time,data,color)\n",
        "    plt.ylabel(ylabel)\n",
        "    plt.xlabel(xlabel)"
      ],
      "metadata": {
        "id": "ya9QPMK-fQ4G"
      },
      "execution_count": null,
      "outputs": []
    },
    {
      "cell_type": "code",
      "source": [
        "def makeEchoes(sig,sr,delay,amplitudes):\n",
        "\n",
        "    #calculate the number of bytes which corresponds to the offset in milliseconds\n",
        "    offset=int(sr*delay)\n",
        "\n",
        "    #add extra space at the end for the delays\n",
        "    ending = np.zeros((offset*(len(amplitudes))))\n",
        "\n",
        "    delayedSig = np.concatenate((sig,ending))\n",
        "\n",
        "    for i in range(len(amplitudes)):\n",
        "\n",
        "        #create some silence\n",
        "        # python indexes starting with zero which is why you need to add one\n",
        "        beginning = np.zeros(offset*(i+1))\n",
        "\n",
        "        #create delayed version of signal\n",
        "        delay = np.concatenate((beginning,sig))\n",
        "        delay = delay * amplitudes[i]\n",
        "\n",
        "        #pad the end of delay with zeros to make it the same length as delaysedSig\n",
        "        delay = np.concatenate((delay,np.zeros((delayedSig.size-delay.size))))\n",
        "\n",
        "        # combine with output signal\n",
        "        delayedSig = delayedSig + delay\n",
        "\n",
        "    return delayedSig"
      ],
      "metadata": {
        "id": "1tkDWqB5fWFf"
      },
      "execution_count": null,
      "outputs": []
    },
    {
      "cell_type": "code",
      "source": [
        "def amplitudeModulation(sig,sr,modulatorFreq,modulatorAmp,modIndex):\n",
        "\n",
        "    # create a time series from 0 to 1 the length of the inputted sig\n",
        "    timeSeries = np.linspace(0, 1, len(sig))\n",
        "\n",
        "    #create a cosine wave modulator with the time series using the inputted modulation frequency with the np.cos function and multiple it by the inputted modulation amplitude\n",
        "    modulator = modulatorAmp * np.cos (2 * np.pi * modulatorFreq * timeSeries)\n",
        "\n",
        "    #perform amplitude modulation by multiplying the inputted sig with the modulator (multiplied by 1 + modulation index)\n",
        "    amMod = (1 + modIndex * modulator) * sig\n",
        "\n",
        "    #create a time series to represent time for plotting\n",
        "    time=np.arange(0,sig.shape[0])/sr\n",
        "\n",
        "    #plot the modulator, the carrier (sig), and the result of the amplitude modulation (amMod)\n",
        "    subplots([3,1,1],'Modulator signal',modulator,time,'g','Amplitude','Time')\n",
        "    subplots([3,1,2],'Original (carrier) signal',sig,time,'r','Amplitude','Time')\n",
        "    subplots([3,1,3],'Amplitude Modulated Signal',amMod,time,'purple','Amplitude','Time')\n",
        "\n",
        "    plt.subplots_adjust(hspace=1)\n",
        "    plt.rc('font', size=15)\n",
        "    fig = plt.gcf()\n",
        "    fig.set_size_inches(16, 9)\n",
        "\n",
        "    return amMod"
      ],
      "metadata": {
        "id": "mTavXSO-fdT2"
      },
      "execution_count": null,
      "outputs": []
    },
    {
      "cell_type": "code",
      "source": [
        "def echoAM(sig,sr,delay,echoes,modulatorFreq,modulatorAmp,modIndex):\n",
        "\n",
        "    plotAudio2(sig,sr,'Original Signal')\n",
        "\n",
        "    delayedSig = makeEchoes(sig,sr,delay,echoes)\n",
        "    plotAudio2(delayedSig,sr,'Signal with Echoes')\n",
        "\n",
        "    modSignal = amplitudeModulation(delayedSig,sr,modulatorFreq,modulatorAmp,modIndex)\n",
        "\n",
        "    return modSignal"
      ],
      "metadata": {
        "id": "yyBSCiswHPWe"
      },
      "execution_count": null,
      "outputs": []
    },
    {
      "cell_type": "code",
      "source": [
        "sig,sr = librosa.load('imc2023/audioFiles/avm.wav')\n",
        "IPython.display.Audio(data=sig, rate=sr)"
      ],
      "metadata": {
        "colab": {
          "base_uri": "https://localhost:8080/",
          "height": 187
        },
        "id": "QaPv_d1-MujL",
        "outputId": "fabbcdd7-263d-450c-f655-3d46f84254f3"
      },
      "execution_count": null,
      "outputs": [
        {
          "output_type": "error",
          "ename": "NameError",
          "evalue": "ignored",
          "traceback": [
            "\u001b[0;31m---------------------------------------------------------------------------\u001b[0m",
            "\u001b[0;31mNameError\u001b[0m                                 Traceback (most recent call last)",
            "\u001b[0;32m<ipython-input-29-0688e1ccf0e1>\u001b[0m in \u001b[0;36m<module>\u001b[0;34m\u001b[0m\n\u001b[0;32m----> 1\u001b[0;31m \u001b[0msig\u001b[0m\u001b[0;34m,\u001b[0m\u001b[0msr\u001b[0m \u001b[0;34m=\u001b[0m \u001b[0mlibrosa\u001b[0m\u001b[0;34m.\u001b[0m\u001b[0mload\u001b[0m\u001b[0;34m(\u001b[0m\u001b[0;34m'imc2023/audioFiles/avm.wav'\u001b[0m\u001b[0;34m)\u001b[0m\u001b[0;34m\u001b[0m\u001b[0;34m\u001b[0m\u001b[0m\n\u001b[0m\u001b[1;32m      2\u001b[0m \u001b[0mIPython\u001b[0m\u001b[0;34m.\u001b[0m\u001b[0mdisplay\u001b[0m\u001b[0;34m.\u001b[0m\u001b[0mAudio\u001b[0m\u001b[0;34m(\u001b[0m\u001b[0mdata\u001b[0m\u001b[0;34m=\u001b[0m\u001b[0msig\u001b[0m\u001b[0;34m,\u001b[0m \u001b[0mrate\u001b[0m\u001b[0;34m=\u001b[0m\u001b[0msr\u001b[0m\u001b[0;34m)\u001b[0m\u001b[0;34m\u001b[0m\u001b[0;34m\u001b[0m\u001b[0m\n",
            "\u001b[0;31mNameError\u001b[0m: name 'librosa' is not defined"
          ]
        }
      ]
    },
    {
      "cell_type": "code",
      "source": [
        "delay = 0.5\n",
        "echoes = [1,1,1]\n",
        "modulatorFreq = 20\n",
        "modulatorAmp = 0.5\n",
        "modIndex = 1\n",
        "\n",
        "modSignal1 = echoAM(sig,sr,delay,echoes,modulatorFreq,modulatorAmp,modIndex)\n",
        "IPython.display.Audio(data=modSignal1, rate=sr)\n",
        "     "
      ],
      "metadata": {
        "colab": {
          "base_uri": "https://localhost:8080/",
          "height": 240
        },
        "id": "hjUJnQUKNmF2",
        "outputId": "08251507-137d-4b04-9590-bd37e5159025"
      },
      "execution_count": null,
      "outputs": [
        {
          "output_type": "error",
          "ename": "NameError",
          "evalue": "ignored",
          "traceback": [
            "\u001b[0;31m---------------------------------------------------------------------------\u001b[0m",
            "\u001b[0;31mNameError\u001b[0m                                 Traceback (most recent call last)",
            "\u001b[0;32m<ipython-input-23-1f648a9a2ab2>\u001b[0m in \u001b[0;36m<module>\u001b[0;34m\u001b[0m\n\u001b[1;32m      5\u001b[0m \u001b[0mmodIndex\u001b[0m \u001b[0;34m=\u001b[0m \u001b[0;36m1\u001b[0m\u001b[0;34m\u001b[0m\u001b[0;34m\u001b[0m\u001b[0m\n\u001b[1;32m      6\u001b[0m \u001b[0;34m\u001b[0m\u001b[0m\n\u001b[0;32m----> 7\u001b[0;31m \u001b[0mmodSignal1\u001b[0m \u001b[0;34m=\u001b[0m \u001b[0mechoAM\u001b[0m\u001b[0;34m(\u001b[0m\u001b[0msig\u001b[0m\u001b[0;34m,\u001b[0m\u001b[0msr\u001b[0m\u001b[0;34m,\u001b[0m\u001b[0mdelay\u001b[0m\u001b[0;34m,\u001b[0m\u001b[0mechoes\u001b[0m\u001b[0;34m,\u001b[0m\u001b[0mmodulatorFreq\u001b[0m\u001b[0;34m,\u001b[0m\u001b[0mmodulatorAmp\u001b[0m\u001b[0;34m,\u001b[0m\u001b[0mmodIndex\u001b[0m\u001b[0;34m)\u001b[0m\u001b[0;34m\u001b[0m\u001b[0;34m\u001b[0m\u001b[0m\n\u001b[0m\u001b[1;32m      8\u001b[0m \u001b[0mIPython\u001b[0m\u001b[0;34m.\u001b[0m\u001b[0mdisplay\u001b[0m\u001b[0;34m.\u001b[0m\u001b[0mAudio\u001b[0m\u001b[0;34m(\u001b[0m\u001b[0mdata\u001b[0m\u001b[0;34m=\u001b[0m\u001b[0mmodSignal1\u001b[0m\u001b[0;34m,\u001b[0m \u001b[0mrate\u001b[0m\u001b[0;34m=\u001b[0m\u001b[0msr\u001b[0m\u001b[0;34m)\u001b[0m\u001b[0;34m\u001b[0m\u001b[0;34m\u001b[0m\u001b[0m\n\u001b[1;32m      9\u001b[0m \u001b[0;34m\u001b[0m\u001b[0m\n",
            "\u001b[0;31mNameError\u001b[0m: name 'sig' is not defined"
          ]
        }
      ]
    },
    {
      "cell_type": "code",
      "source": [
        "delay = 0.5\n",
        "echoes = [1,0.5,0.25,0.125,0.0625,0.03125]\n",
        "modulatorFreq = 20\n",
        "modulatorAmp = 0.5\n",
        "modIndex = 1\n",
        "\n",
        "modSignal2 = echoAM(sig,sr,delay,echoes,modulatorFreq,modulatorAmp,modIndex)\n",
        "IPython.display.Audio(data=modSignal2, rate=sr)"
      ],
      "metadata": {
        "colab": {
          "base_uri": "https://localhost:8080/",
          "height": 222
        },
        "id": "BwR9AODoNpsK",
        "outputId": "92b6cf53-ee64-465c-b003-7ba49373976e"
      },
      "execution_count": null,
      "outputs": [
        {
          "output_type": "error",
          "ename": "NameError",
          "evalue": "ignored",
          "traceback": [
            "\u001b[0;31m---------------------------------------------------------------------------\u001b[0m",
            "\u001b[0;31mNameError\u001b[0m                                 Traceback (most recent call last)",
            "\u001b[0;32m<ipython-input-24-572ad62eacb2>\u001b[0m in \u001b[0;36m<module>\u001b[0;34m\u001b[0m\n\u001b[1;32m      5\u001b[0m \u001b[0mmodIndex\u001b[0m \u001b[0;34m=\u001b[0m \u001b[0;36m1\u001b[0m\u001b[0;34m\u001b[0m\u001b[0;34m\u001b[0m\u001b[0m\n\u001b[1;32m      6\u001b[0m \u001b[0;34m\u001b[0m\u001b[0m\n\u001b[0;32m----> 7\u001b[0;31m \u001b[0mmodSignal2\u001b[0m \u001b[0;34m=\u001b[0m \u001b[0mechoAM\u001b[0m\u001b[0;34m(\u001b[0m\u001b[0msig\u001b[0m\u001b[0;34m,\u001b[0m\u001b[0msr\u001b[0m\u001b[0;34m,\u001b[0m\u001b[0mdelay\u001b[0m\u001b[0;34m,\u001b[0m\u001b[0mechoes\u001b[0m\u001b[0;34m,\u001b[0m\u001b[0mmodulatorFreq\u001b[0m\u001b[0;34m,\u001b[0m\u001b[0mmodulatorAmp\u001b[0m\u001b[0;34m,\u001b[0m\u001b[0mmodIndex\u001b[0m\u001b[0;34m)\u001b[0m\u001b[0;34m\u001b[0m\u001b[0;34m\u001b[0m\u001b[0m\n\u001b[0m\u001b[1;32m      8\u001b[0m \u001b[0mIPython\u001b[0m\u001b[0;34m.\u001b[0m\u001b[0mdisplay\u001b[0m\u001b[0;34m.\u001b[0m\u001b[0mAudio\u001b[0m\u001b[0;34m(\u001b[0m\u001b[0mdata\u001b[0m\u001b[0;34m=\u001b[0m\u001b[0mmodSignal2\u001b[0m\u001b[0;34m,\u001b[0m \u001b[0mrate\u001b[0m\u001b[0;34m=\u001b[0m\u001b[0msr\u001b[0m\u001b[0;34m)\u001b[0m\u001b[0;34m\u001b[0m\u001b[0;34m\u001b[0m\u001b[0m\n",
            "\u001b[0;31mNameError\u001b[0m: name 'sig' is not defined"
          ]
        }
      ]
    },
    {
      "cell_type": "code",
      "source": [
        "delay = 0.5\n",
        "echoes = [1,1,1,1]\n",
        "modulatorFreq = 200\n",
        "modulatorAmp = 0.5\n",
        "modIndex = 0.5\n",
        "\n",
        "modSignal3 = echoAM(sig,sr,delay,echoes,modulatorFreq,modulatorAmp,modIndex)\n",
        "IPython.display.Audio(data=modSignal3, rate=sr)"
      ],
      "metadata": {
        "colab": {
          "base_uri": "https://localhost:8080/",
          "height": 222
        },
        "id": "Wxw7tMMvN2yW",
        "outputId": "62c94812-627d-419d-a9ec-b7b20a587ce9"
      },
      "execution_count": null,
      "outputs": [
        {
          "output_type": "error",
          "ename": "NameError",
          "evalue": "ignored",
          "traceback": [
            "\u001b[0;31m---------------------------------------------------------------------------\u001b[0m",
            "\u001b[0;31mNameError\u001b[0m                                 Traceback (most recent call last)",
            "\u001b[0;32m<ipython-input-25-8a3fff65b150>\u001b[0m in \u001b[0;36m<module>\u001b[0;34m\u001b[0m\n\u001b[1;32m      5\u001b[0m \u001b[0mmodIndex\u001b[0m \u001b[0;34m=\u001b[0m \u001b[0;36m0.5\u001b[0m\u001b[0;34m\u001b[0m\u001b[0;34m\u001b[0m\u001b[0m\n\u001b[1;32m      6\u001b[0m \u001b[0;34m\u001b[0m\u001b[0m\n\u001b[0;32m----> 7\u001b[0;31m \u001b[0mmodSignal3\u001b[0m \u001b[0;34m=\u001b[0m \u001b[0mechoAM\u001b[0m\u001b[0;34m(\u001b[0m\u001b[0msig\u001b[0m\u001b[0;34m,\u001b[0m\u001b[0msr\u001b[0m\u001b[0;34m,\u001b[0m\u001b[0mdelay\u001b[0m\u001b[0;34m,\u001b[0m\u001b[0mechoes\u001b[0m\u001b[0;34m,\u001b[0m\u001b[0mmodulatorFreq\u001b[0m\u001b[0;34m,\u001b[0m\u001b[0mmodulatorAmp\u001b[0m\u001b[0;34m,\u001b[0m\u001b[0mmodIndex\u001b[0m\u001b[0;34m)\u001b[0m\u001b[0;34m\u001b[0m\u001b[0;34m\u001b[0m\u001b[0m\n\u001b[0m\u001b[1;32m      8\u001b[0m \u001b[0mIPython\u001b[0m\u001b[0;34m.\u001b[0m\u001b[0mdisplay\u001b[0m\u001b[0;34m.\u001b[0m\u001b[0mAudio\u001b[0m\u001b[0;34m(\u001b[0m\u001b[0mdata\u001b[0m\u001b[0;34m=\u001b[0m\u001b[0mmodSignal3\u001b[0m\u001b[0;34m,\u001b[0m \u001b[0mrate\u001b[0m\u001b[0;34m=\u001b[0m\u001b[0msr\u001b[0m\u001b[0;34m)\u001b[0m\u001b[0;34m\u001b[0m\u001b[0;34m\u001b[0m\u001b[0m\n",
            "\u001b[0;31mNameError\u001b[0m: name 'sig' is not defined"
          ]
        }
      ]
    },
    {
      "cell_type": "code",
      "source": [
        "delay = 0.5\n",
        "echoes = [1,0.5,0.25,0.125,0.0625,0.03125]\n",
        "modulatorFreq = 200\n",
        "modulatorAmp = 0.5\n",
        "modIndex = 0.5\n",
        "\n",
        "modSignal4 = echoAM(sig,sr,delay,echoes,modulatorFreq,modulatorAmp,modIndex)\n",
        "IPython.display.Audio(data=modSignal4, rate=sr)"
      ],
      "metadata": {
        "colab": {
          "base_uri": "https://localhost:8080/",
          "height": 222
        },
        "id": "ssrl9KSPN6Ku",
        "outputId": "1382dcbe-cef5-4372-a23c-f991bb3fd9ac"
      },
      "execution_count": null,
      "outputs": [
        {
          "output_type": "error",
          "ename": "NameError",
          "evalue": "ignored",
          "traceback": [
            "\u001b[0;31m---------------------------------------------------------------------------\u001b[0m",
            "\u001b[0;31mNameError\u001b[0m                                 Traceback (most recent call last)",
            "\u001b[0;32m<ipython-input-26-4b01f3a01429>\u001b[0m in \u001b[0;36m<module>\u001b[0;34m\u001b[0m\n\u001b[1;32m      5\u001b[0m \u001b[0mmodIndex\u001b[0m \u001b[0;34m=\u001b[0m \u001b[0;36m0.5\u001b[0m\u001b[0;34m\u001b[0m\u001b[0;34m\u001b[0m\u001b[0m\n\u001b[1;32m      6\u001b[0m \u001b[0;34m\u001b[0m\u001b[0m\n\u001b[0;32m----> 7\u001b[0;31m \u001b[0mmodSignal4\u001b[0m \u001b[0;34m=\u001b[0m \u001b[0mechoAM\u001b[0m\u001b[0;34m(\u001b[0m\u001b[0msig\u001b[0m\u001b[0;34m,\u001b[0m\u001b[0msr\u001b[0m\u001b[0;34m,\u001b[0m\u001b[0mdelay\u001b[0m\u001b[0;34m,\u001b[0m\u001b[0mechoes\u001b[0m\u001b[0;34m,\u001b[0m\u001b[0mmodulatorFreq\u001b[0m\u001b[0;34m,\u001b[0m\u001b[0mmodulatorAmp\u001b[0m\u001b[0;34m,\u001b[0m\u001b[0mmodIndex\u001b[0m\u001b[0;34m)\u001b[0m\u001b[0;34m\u001b[0m\u001b[0;34m\u001b[0m\u001b[0m\n\u001b[0m\u001b[1;32m      8\u001b[0m \u001b[0mIPython\u001b[0m\u001b[0;34m.\u001b[0m\u001b[0mdisplay\u001b[0m\u001b[0;34m.\u001b[0m\u001b[0mAudio\u001b[0m\u001b[0;34m(\u001b[0m\u001b[0mdata\u001b[0m\u001b[0;34m=\u001b[0m\u001b[0mmodSignal4\u001b[0m\u001b[0;34m,\u001b[0m \u001b[0mrate\u001b[0m\u001b[0;34m=\u001b[0m\u001b[0msr\u001b[0m\u001b[0;34m)\u001b[0m\u001b[0;34m\u001b[0m\u001b[0;34m\u001b[0m\u001b[0m\n",
            "\u001b[0;31mNameError\u001b[0m: name 'sig' is not defined"
          ]
        }
      ]
    },
    {
      "cell_type": "code",
      "source": [
        "delay = 15\n",
        "echoes = [10,5,2.5]\n",
        "modulatorFreq = 50\n",
        "modulatorAmp = 0.5\n",
        "modIndex = 0.8\n",
        "\n",
        "modSignal5 = echoAM(sig,sr,delay,echoes,modulatorFreq,modulatorAmp,modIndex)\n",
        "IPython.display.Audio(data=modSignal5, rate=sr)"
      ],
      "metadata": {
        "colab": {
          "base_uri": "https://localhost:8080/",
          "height": 222
        },
        "id": "WnkRwe1iN85p",
        "outputId": "f6a37418-4aa6-4727-955f-c693bc307d58"
      },
      "execution_count": null,
      "outputs": [
        {
          "output_type": "error",
          "ename": "NameError",
          "evalue": "ignored",
          "traceback": [
            "\u001b[0;31m---------------------------------------------------------------------------\u001b[0m",
            "\u001b[0;31mNameError\u001b[0m                                 Traceback (most recent call last)",
            "\u001b[0;32m<ipython-input-27-44e00ca1d631>\u001b[0m in \u001b[0;36m<module>\u001b[0;34m\u001b[0m\n\u001b[1;32m      5\u001b[0m \u001b[0mmodIndex\u001b[0m \u001b[0;34m=\u001b[0m \u001b[0;36m0.8\u001b[0m\u001b[0;34m\u001b[0m\u001b[0;34m\u001b[0m\u001b[0m\n\u001b[1;32m      6\u001b[0m \u001b[0;34m\u001b[0m\u001b[0m\n\u001b[0;32m----> 7\u001b[0;31m \u001b[0mmodSignal5\u001b[0m \u001b[0;34m=\u001b[0m \u001b[0mechoAM\u001b[0m\u001b[0;34m(\u001b[0m\u001b[0msig\u001b[0m\u001b[0;34m,\u001b[0m\u001b[0msr\u001b[0m\u001b[0;34m,\u001b[0m\u001b[0mdelay\u001b[0m\u001b[0;34m,\u001b[0m\u001b[0mechoes\u001b[0m\u001b[0;34m,\u001b[0m\u001b[0mmodulatorFreq\u001b[0m\u001b[0;34m,\u001b[0m\u001b[0mmodulatorAmp\u001b[0m\u001b[0;34m,\u001b[0m\u001b[0mmodIndex\u001b[0m\u001b[0;34m)\u001b[0m\u001b[0;34m\u001b[0m\u001b[0;34m\u001b[0m\u001b[0m\n\u001b[0m\u001b[1;32m      8\u001b[0m \u001b[0mIPython\u001b[0m\u001b[0;34m.\u001b[0m\u001b[0mdisplay\u001b[0m\u001b[0;34m.\u001b[0m\u001b[0mAudio\u001b[0m\u001b[0;34m(\u001b[0m\u001b[0mdata\u001b[0m\u001b[0;34m=\u001b[0m\u001b[0mmodSignal5\u001b[0m\u001b[0;34m,\u001b[0m \u001b[0mrate\u001b[0m\u001b[0;34m=\u001b[0m\u001b[0msr\u001b[0m\u001b[0;34m)\u001b[0m\u001b[0;34m\u001b[0m\u001b[0;34m\u001b[0m\u001b[0m\n",
            "\u001b[0;31mNameError\u001b[0m: name 'sig' is not defined"
          ]
        }
      ]
    },
    {
      "cell_type": "code",
      "source": [
        "delay = 0.1\n",
        "echoes = [0.1,0.1,0.1]\n",
        "modulatorFreq = 500\n",
        "modulatorAmp = 0.5\n",
        "modIndex = 1\n",
        "\n",
        "modSignal6 = echoAM(sig,sr,delay,echoes,modulatorFreq,modulatorAmp,modIndex)\n",
        "IPython.display.Audio(data=modSignal6, rate=sr)"
      ],
      "metadata": {
        "colab": {
          "base_uri": "https://localhost:8080/",
          "height": 222
        },
        "id": "h4tz-5K5OAHn",
        "outputId": "5ce9354f-48d0-41c7-c46b-62443f47d240"
      },
      "execution_count": null,
      "outputs": [
        {
          "output_type": "error",
          "ename": "NameError",
          "evalue": "ignored",
          "traceback": [
            "\u001b[0;31m---------------------------------------------------------------------------\u001b[0m",
            "\u001b[0;31mNameError\u001b[0m                                 Traceback (most recent call last)",
            "\u001b[0;32m<ipython-input-28-6a63476b03ce>\u001b[0m in \u001b[0;36m<module>\u001b[0;34m\u001b[0m\n\u001b[1;32m      5\u001b[0m \u001b[0mmodIndex\u001b[0m \u001b[0;34m=\u001b[0m \u001b[0;36m1\u001b[0m\u001b[0;34m\u001b[0m\u001b[0;34m\u001b[0m\u001b[0m\n\u001b[1;32m      6\u001b[0m \u001b[0;34m\u001b[0m\u001b[0m\n\u001b[0;32m----> 7\u001b[0;31m \u001b[0mmodSignal6\u001b[0m \u001b[0;34m=\u001b[0m \u001b[0mechoAM\u001b[0m\u001b[0;34m(\u001b[0m\u001b[0msig\u001b[0m\u001b[0;34m,\u001b[0m\u001b[0msr\u001b[0m\u001b[0;34m,\u001b[0m\u001b[0mdelay\u001b[0m\u001b[0;34m,\u001b[0m\u001b[0mechoes\u001b[0m\u001b[0;34m,\u001b[0m\u001b[0mmodulatorFreq\u001b[0m\u001b[0;34m,\u001b[0m\u001b[0mmodulatorAmp\u001b[0m\u001b[0;34m,\u001b[0m\u001b[0mmodIndex\u001b[0m\u001b[0;34m)\u001b[0m\u001b[0;34m\u001b[0m\u001b[0;34m\u001b[0m\u001b[0m\n\u001b[0m\u001b[1;32m      8\u001b[0m \u001b[0mIPython\u001b[0m\u001b[0;34m.\u001b[0m\u001b[0mdisplay\u001b[0m\u001b[0;34m.\u001b[0m\u001b[0mAudio\u001b[0m\u001b[0;34m(\u001b[0m\u001b[0mdata\u001b[0m\u001b[0;34m=\u001b[0m\u001b[0mmodSignal6\u001b[0m\u001b[0;34m,\u001b[0m \u001b[0mrate\u001b[0m\u001b[0;34m=\u001b[0m\u001b[0msr\u001b[0m\u001b[0;34m)\u001b[0m\u001b[0;34m\u001b[0m\u001b[0;34m\u001b[0m\u001b[0m\n",
            "\u001b[0;31mNameError\u001b[0m: name 'sig' is not defined"
          ]
        }
      ]
    },
    {
      "cell_type": "code",
      "source": [],
      "metadata": {
        "id": "5sFh2WaFOChw"
      },
      "execution_count": null,
      "outputs": []
    }
  ]
}