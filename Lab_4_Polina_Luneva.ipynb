{
  "nbformat": 4,
  "nbformat_minor": 0,
  "metadata": {
    "colab": {
      "provenance": [],
      "authorship_tag": "ABX9TyMLXb0O9tQM1k/vqAFWRKZR",
      "include_colab_link": true
    },
    "kernelspec": {
      "name": "python3",
      "display_name": "Python 3"
    },
    "language_info": {
      "name": "python"
    }
  },
  "cells": [
    {
      "cell_type": "markdown",
      "metadata": {
        "id": "view-in-github",
        "colab_type": "text"
      },
      "source": [
        "<a href=\"https://colab.research.google.com/github/lunevaaa/imc2023-luneva/blob/main/Lab_4_Polina_Luneva.ipynb\" target=\"_parent\"><img src=\"https://colab.research.google.com/assets/colab-badge.svg\" alt=\"Open In Colab\"/></a>"
      ]
    },
    {
      "cell_type": "code",
      "execution_count": null,
      "metadata": {
        "id": "QaQedJgyQXwP"
      },
      "outputs": [],
      "source": [
        "import numpy as np\n",
        "import matplotlib.pyplot as plt\n",
        "import librosa\n",
        "import librosa.display\n",
        "import IPython.display"
      ]
    },
    {
      "cell_type": "code",
      "source": [
        "def plotAudio2(sig,sampleRate,title):\n",
        "    \n",
        "    # this version expects the audio file to have already been opened by librosa\n",
        "    \n",
        "    # Adjust the x-axis to represent time\n",
        "    time=np.arange(0,sig.shape[0])/sr\n",
        "    \n",
        "    # Scale the y-axis to represent amplitude from -1 to 1\n",
        "    excursion=max(abs(sig))\n",
        "    sigNew = sig / excursion\n",
        "    \n",
        "    # Label the x and y axes with variables\n",
        "    xlabel = 'Time (seconds)'\n",
        "    ylabel = 'Amplitude'\n",
        "\n",
        "    # Plot the signal using the x and y axis variables    \n",
        "    plt.plot(time,sigNew)\n",
        "    plt.xlabel(xlabel)\n",
        "    plt.ylabel(ylabel)\n",
        "    plt.title(title)\n",
        "    plt.show()"
      ],
      "metadata": {
        "id": "HD6Rfkd8Q1dk"
      },
      "execution_count": null,
      "outputs": []
    },
    {
      "cell_type": "code",
      "source": [
        "#ploAudioFreqDomain\n",
        "def plotAudioFreqDomain(sig,sr,title,winSize,specType):\n",
        "\n",
        "    spec = librosa.amplitude_to_db(np.abs(librosa.stft(sig,n_fft=winSize)), ref=np.max)\n",
        "\n",
        "    # display the normalized spectrogram with a linear frequency scale\n",
        "    librosa.display.specshow(spec, y_axis=specType)\n",
        "    plt.colorbar(format='%+2.0f dB')\n",
        "    plt.title(title)\n",
        "    plt.show()"
      ],
      "metadata": {
        "id": "j0yFdKF9RezW"
      },
      "execution_count": null,
      "outputs": []
    },
    {
      "cell_type": "code",
      "source": [
        "def additiveSynthesis(samplingRate,frequency,numHarmonics,seqHarm,ampExponent):\n",
        "\n",
        "    # generate list of harmonics\n",
        "    harmonics = np.arange(1,numHarmonics+1,seqHarm)\n",
        "    \n",
        "    # create a time series from 0 to 1 the inputted length    \n",
        "    timeSeries = np.linspace(0, 1, samplingRate)\n",
        "    \n",
        "    # create a cosine wave for the fundamental    \n",
        "    signal = np.cos(2.0 * np.pi * frequency * timeSeries)\n",
        "\n",
        "    # add harmonics based on the those specified in the variable 'harmonics'\n",
        "    for harm in harmonics:\n",
        "        signal = signal + np.cos(2.0 * np.pi * frequency * harm * timeSeries)/harm**ampExponent     \n",
        "    \n",
        "    # scale the signal to between -1 and 1\n",
        "    excursion=max(abs(signal))\n",
        "    signal = signal / excursion\n",
        "    \n",
        "    # plot signal\n",
        "    plt.plot(timeSeries,signal)\n",
        "    plt.xlabel('Time (Sec)')\n",
        "    plt.ylabel('Amplitude')\n",
        "    plt.title('Additive Synthesis')\n",
        "    plt.plot\n",
        "        \n",
        "    return signal"
      ],
      "metadata": {
        "id": "esp5-1beRBWR"
      },
      "execution_count": null,
      "outputs": []
    },
    {
      "cell_type": "code",
      "source": [
        "def makeWaveForms(frequency,samplingRate,numHarmonnics,waveType): \n",
        "  #The function will\n",
        "  #use an if/elif/else statement to set up the parameters for the different type of waveforms based on the code in additiveSynthesis.ipynb\n",
        "  \n",
        "  #call additiveSynthesis() to generate a waveform\n",
        "  \n",
        "  #return the generated waveform (signal) \n",
        "  samplingRate = 44100\n",
        "  frequency = 100\n",
        "  numHarmonics = 100\n",
        "  waveType = 'sawtooth'\n",
        "\n",
        "# if, elif (else if) and else can be used to evaluate the contents of a variable \n",
        "if waveType == 'sawtooth':\n",
        "    seqHarm = 1\n",
        "    ampExponent = 1\n",
        "elif waveType == 'square': \n",
        "    seqHarm = 2\n",
        "    ampExponent = 1\n",
        "elif waveType == 'triangle':\n",
        "    seqHarm = 2\n",
        "    ampExponent = 2\n",
        "else: \n",
        "    numHarmonics = 1\n",
        "    seqHarm = 1\n",
        "    ampExponent = 1\n",
        "\n",
        "signal = additiveSynthesis(samplingRate,frequency,numHarmonics,seqHarm,ampExponent)\n",
        "\n",
        "play signalIPython.display.Audio(data=signal, rate=samplingRate)"
      ],
      "metadata": {
        "colab": {
          "base_uri": "https://localhost:8080/",
          "height": 133
        },
        "id": "c_AvxlstRdcA",
        "outputId": "a6d5ebf8-7b31-4c22-98b4-9528f9eed113"
      },
      "execution_count": null,
      "outputs": [
        {
          "output_type": "error",
          "ename": "SyntaxError",
          "evalue": "ignored",
          "traceback": [
            "\u001b[0;36m  File \u001b[0;32m\"<ipython-input-9-03b1379538bb>\"\u001b[0;36m, line \u001b[0;32m30\u001b[0m\n\u001b[0;31m    play signalIPython.display.Audio(data=signal, rate=samplingRate)\u001b[0m\n\u001b[0m         ^\u001b[0m\n\u001b[0;31mSyntaxError\u001b[0m\u001b[0;31m:\u001b[0m invalid syntax\n"
          ]
        }
      ]
    },
    {
      "cell_type": "code",
      "source": [
        "F 6) In cell 6 create a function called visualizeWaveforms() that inputs\n",
        "- frequency for the generated waveform (frequency)\n",
        "- sampling rate for the generated waveform (samplingRate)\n",
        "- number of harmonics in the generated waveform (numHarmonics)\n",
        "- type of waveform to be generated (waveType)\n",
        "- either ‘sawtooth’, ‘triangle’, ‘square’, or ‘sine’\n",
        " (if nothing ‘’ is entered then a sine will be plotted)\n",
        "- window size for the spectrogram (winSize)\n",
        "- spectrogram type, ‘linear’ or ‘log’ (specType)\n",
        "The function will\n",
        "- call makeWaveform() –test whether makeWaveforms() runs without error before you\n",
        "try plotting anything\n",
        "- call plotAudio3()\n",
        "- call plotAudioFreqDomain()\n",
        "And it will return the output of makeWaveform()"
      ],
      "metadata": {
        "id": "dG_aCxDRUF3x"
      },
      "execution_count": null,
      "outputs": []
    },
    {
      "cell_type": "code",
      "source": [
        "frequency = 100\n",
        "samplingRate = 44100\n",
        "numHarmonics = 100\n",
        "waveType = 'sine'\n",
        "winSize = 1024\n",
        "specType = 'log'\n",
        "plotAudioFunc(sig,sr,title,winSize,specType)"
      ],
      "metadata": {
        "id": "MckPlbV1BoWA"
      },
      "execution_count": null,
      "outputs": []
    }
  ]
}