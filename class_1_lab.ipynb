{
  "nbformat": 4,
  "nbformat_minor": 0,
  "metadata": {
    "colab": {
      "provenance": [],
      "authorship_tag": "ABX9TyM2gBgyjz/ySPfS0+llv3pB",
      "include_colab_link": true
    },
    "kernelspec": {
      "name": "python3",
      "display_name": "Python 3"
    },
    "language_info": {
      "name": "python"
    }
  },
  "cells": [
    {
      "cell_type": "markdown",
      "metadata": {
        "id": "view-in-github",
        "colab_type": "text"
      },
      "source": [
        "<a href=\"https://colab.research.google.com/github/lunevaaa/imc2023-luneva/blob/main/class_1_lab.ipynb\" target=\"_parent\"><img src=\"https://colab.research.google.com/assets/colab-badge.svg\" alt=\"Open In Colab\"/></a>"
      ]
    },
    {
      "cell_type": "code",
      "execution_count": 1,
      "metadata": {
        "id": "kRBtl6cDIQPV"
      },
      "outputs": [],
      "source": [
        "fundamental = 55"
      ]
    },
    {
      "cell_type": "code",
      "source": [
        "print(fundamental)"
      ],
      "metadata": {
        "colab": {
          "base_uri": "https://localhost:8080/"
        },
        "id": "xRZSFR8EOhG4",
        "outputId": "baebe7a8-c7e7-45b4-e176-0d7227a5f5f9"
      },
      "execution_count": 3,
      "outputs": [
        {
          "output_type": "stream",
          "name": "stdout",
          "text": [
            "55\n"
          ]
        }
      ]
    },
    {
      "cell_type": "code",
      "source": [
        "firstPartial = 55 * 2\n",
        "print(firstPartial)"
      ],
      "metadata": {
        "colab": {
          "base_uri": "https://localhost:8080/"
        },
        "id": "RwXMUkVyOwTE",
        "outputId": "b893b8e5-b5e4-47a3-aab7-a1bd968b7597"
      },
      "execution_count": 4,
      "outputs": [
        {
          "output_type": "stream",
          "name": "stdout",
          "text": [
            "110\n"
          ]
        }
      ]
    },
    {
      "cell_type": "code",
      "source": [
        "secondPartial = 55 * 3\n",
        "print(secondPartial)"
      ],
      "metadata": {
        "colab": {
          "base_uri": "https://localhost:8080/"
        },
        "id": "xMXwltCbPA-X",
        "outputId": "3a17d53e-18c5-4e0d-e6e5-60fba14da83a"
      },
      "execution_count": 10,
      "outputs": [
        {
          "output_type": "stream",
          "name": "stdout",
          "text": [
            "165\n"
          ]
        }
      ]
    },
    {
      "cell_type": "code",
      "source": [
        "thirdPartial = 55 * 4\n",
        "print(thirdPartial)"
      ],
      "metadata": {
        "id": "5p3XQPZGP1-2",
        "outputId": "416297e8-614a-4710-ab40-448ec65cde5c",
        "colab": {
          "base_uri": "https://localhost:8080/"
        }
      },
      "execution_count": 11,
      "outputs": [
        {
          "output_type": "stream",
          "name": "stdout",
          "text": [
            "220\n"
          ]
        }
      ]
    },
    {
      "cell_type": "code",
      "source": [
        "fourthPartial = 55 * 5\n",
        "print(fourthPartial)"
      ],
      "metadata": {
        "id": "Z6w7UafXP9jF",
        "outputId": "89f720e2-9696-4868-db68-e6bf724a78d9",
        "colab": {
          "base_uri": "https://localhost:8080/"
        }
      },
      "execution_count": 12,
      "outputs": [
        {
          "output_type": "stream",
          "name": "stdout",
          "text": [
            "275\n"
          ]
        }
      ]
    },
    {
      "cell_type": "code",
      "source": [
        "fifthPartial = 55 * 6\n",
        "print(fifthPartial)"
      ],
      "metadata": {
        "id": "uxxfDYjiQDlN",
        "outputId": "de64b597-e34f-4d9c-9b3a-cd889e8af6ac",
        "colab": {
          "base_uri": "https://localhost:8080/"
        }
      },
      "execution_count": 13,
      "outputs": [
        {
          "output_type": "stream",
          "name": "stdout",
          "text": [
            "330\n"
          ]
        }
      ]
    },
    {
      "cell_type": "code",
      "source": [
        "sixthPartial = 55 * 7\n",
        "print(sixthPartial)"
      ],
      "metadata": {
        "id": "T1kJpvAAQJnV",
        "outputId": "bc995dbc-35a2-4d03-a11c-0972651fde50",
        "colab": {
          "base_uri": "https://localhost:8080/"
        }
      },
      "execution_count": 14,
      "outputs": [
        {
          "output_type": "stream",
          "name": "stdout",
          "text": [
            "385\n"
          ]
        }
      ]
    },
    {
      "cell_type": "code",
      "source": [
        "import math\n",
        "cents = math.log(3/2) * 1200 / math.log(2)\n",
        "print(cents)"
      ],
      "metadata": {
        "id": "LLMhVBo9QNiV",
        "outputId": "62988104-45f9-44e6-f5c4-348d215bf1dd",
        "colab": {
          "base_uri": "https://localhost:8080/"
        }
      },
      "execution_count": 15,
      "outputs": [
        {
          "output_type": "stream",
          "name": "stdout",
          "text": [
            "701.9550008653874\n"
          ]
        }
      ]
    },
    {
      "cell_type": "code",
      "source": [
        "cents = math.log(385/330) * 1200 / math.log(2)\n",
        "print(cents)"
      ],
      "metadata": {
        "id": "sawdKHqzTMP5",
        "outputId": "4d7d7d0d-cb52-4a38-faae-3dd937aef91f",
        "colab": {
          "base_uri": "https://localhost:8080/"
        }
      },
      "execution_count": 16,
      "outputs": [
        {
          "output_type": "stream",
          "name": "stdout",
          "text": [
            "266.8709056037376\n"
          ]
        }
      ]
    },
    {
      "cell_type": "code",
      "source": [
        "cents = math.log(330/275) * 1200 / math.log(2)\n",
        "print(cents)"
      ],
      "metadata": {
        "id": "zTV1IaaxUCM5",
        "outputId": "a96a5617-4166-4c07-bdc4-f1bd69ba2161",
        "colab": {
          "base_uri": "https://localhost:8080/"
        }
      },
      "execution_count": 17,
      "outputs": [
        {
          "output_type": "stream",
          "name": "stdout",
          "text": [
            "315.64128700055255\n"
          ]
        }
      ]
    },
    {
      "cell_type": "code",
      "source": [
        "cents = math.log(275/220) * 1200 / math.log(2)\n",
        "print(cents)"
      ],
      "metadata": {
        "id": "WgTpwHSBUKln",
        "outputId": "22e783a9-592f-4e96-9513-f23343ec34a9",
        "colab": {
          "base_uri": "https://localhost:8080/"
        }
      },
      "execution_count": 18,
      "outputs": [
        {
          "output_type": "stream",
          "name": "stdout",
          "text": [
            "386.3137138648348\n"
          ]
        }
      ]
    },
    {
      "cell_type": "code",
      "source": [
        "cents = math.log(220/165) * 1200 / math.log(2)\n",
        "print(cents)"
      ],
      "metadata": {
        "id": "tdUqJilpURbf",
        "outputId": "a9d51f2f-0825-4d23-9af9-cabe85789e2d",
        "colab": {
          "base_uri": "https://localhost:8080/"
        }
      },
      "execution_count": 19,
      "outputs": [
        {
          "output_type": "stream",
          "name": "stdout",
          "text": [
            "498.04499913461245\n"
          ]
        }
      ]
    },
    {
      "cell_type": "code",
      "source": [
        "cents = math.log(165/110) * 1200 / math.log(2)\n",
        "print(cents)"
      ],
      "metadata": {
        "id": "-rYEWGiCUW-f",
        "outputId": "f487d9ff-de5a-4092-de3f-8d34622df6c6",
        "colab": {
          "base_uri": "https://localhost:8080/"
        }
      },
      "execution_count": 20,
      "outputs": [
        {
          "output_type": "stream",
          "name": "stdout",
          "text": [
            "701.9550008653874\n"
          ]
        }
      ]
    },
    {
      "cell_type": "code",
      "source": [
        "cents = math.log(110/55) * 1200 / math.log(2)\n",
        "print(cents)"
      ],
      "metadata": {
        "id": "YuW06BVNUcpP",
        "outputId": "b2de9e1c-1ee1-454d-a669-f356d7aa46bf",
        "colab": {
          "base_uri": "https://localhost:8080/"
        }
      },
      "execution_count": 21,
      "outputs": [
        {
          "output_type": "stream",
          "name": "stdout",
          "text": [
            "1200.0\n"
          ]
        }
      ]
    },
    {
      "cell_type": "code",
      "source": [],
      "metadata": {
        "id": "BCsHkfwqUgZu"
      },
      "execution_count": null,
      "outputs": []
    }
  ]
}